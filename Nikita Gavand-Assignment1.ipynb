{
 "cells": [
  {
   "cell_type": "markdown",
   "metadata": {},
   "source": [
    "## COVID Graphs Data Analysis\n",
    "\n",
    "## Nikita Ravindra Gavand\n"
   ]
  },
  {
   "cell_type": "code",
   "execution_count": 301,
   "metadata": {},
   "outputs": [],
   "source": [
    "#All the required imports are placed in this section\n",
    "import pandas as pd\n",
    "from pandas.io.json import json_normalize\n",
    "import requests\n",
    "import urllib.request\n",
    "import json\n",
    "import numpy as np\n",
    "import csv\n",
    "import matplotlib\n",
    "matplotlib.use('agg')\n",
    "import matplotlib.pyplot as plt\n",
    "%matplotlib inline\n",
    "import plotly.graph_objects as go"
   ]
  },
  {
   "cell_type": "markdown",
   "metadata": {},
   "source": [
    "## Task 1: Identify one or more suitable web APIs\n",
    "During these days, we are hearing a lot of novel coronavirus(COVID-19) pandemic. Every industries wanted to know more about this pandemic. Specially the health care industry, researches and government to take actions over this pandemic. Everyone wants a quick real-time data and analyze all the graphs to take preventive action over this critical crisis.\n",
    "\n",
    "Here, I have used three APIs which covers most of the part a researcher or any government body needs to see the statistics of this virus. How quickly it is spreading across the world, their states and how quickly it is spreading.\n",
    "\n",
    "The first API https://api.covid19api.com/summary gives the statistic of each countries with their confirmed cases and deaths and also the recovered cases. It also shows how many are newly recovered  or newly confirmed cases. I found this json object more informative as it distinguish between new cases are old cases. New cases are calculated everyday and changes at GMT.\n",
    "\n",
    "The second api https://covid-india-api.herokuapp.com/api is specifically of one country. We can take any other countries to analyse their statistics. Here I have taken India to analyze their reports according to the states. We know that India has 28 states and their statistics are given. This JSON object returns all the confirmed cases, cured cases and number of deaths. \n",
    "\n",
    "The reason of taking this third api is to show how rapidly this virus is spreading across the globe causing a big trouble to various industrial sectors. The third API https://pomber.github.io/covid19/timeseries.json is a generic api for all the countries in the world on how it is spreading so fast in the given time period. \n",
    "Please Note: I have considered only Italy's graph we can also change the country name and retrieve the data accordingly of each country. \n",
    "\n",
    "To get the overview of this pandemic this three APIs are enough to get the statistics of each country at a given time period\n"
   ]
  },
  {
   "cell_type": "markdown",
   "metadata": {},
   "source": [
    "## Task 2. Data collection, data retrieval, parsing, and storage.\n",
    "\n",
    "I have collected all the JSON objects and stored in the data objects\n",
    "\n",
    "The data for url1 is stored covid.csv after parsing through the JSON objects\n",
    "The data for url2 is stored covid_india.csv after parsing through the JSON objects\n",
    "The data for url3 is stored covid_daywise_italy.csv after parsing through the JSON objects( Here, I have mentioned the specific attribute \"Italy\" we can also change to any other country and analyse their statistics of growing rate of pandemic with respect to the period of time.)"
   ]
  },
  {
   "cell_type": "code",
   "execution_count": 302,
   "metadata": {},
   "outputs": [],
   "source": [
    "url1 = \"https://api.covid19api.com/summary\"\n",
    "url2 = \"https://covid-india-api.herokuapp.com/api\"\n",
    "url3 = \"https://pomber.github.io/covid19/timeseries.json\"\n",
    "try:\n",
    "    response_1 = urllib.request.urlopen(url1)\n",
    "    raw_json_1 = response_1.read().decode(\"utf-8\")\n",
    "    response_2 = urllib.request.urlopen(url2)\n",
    "    raw_json_2 = response_2.read().decode(\"utf-8\")\n",
    "    response_3 = urllib.request.urlopen(url3)\n",
    "    raw_json_3 = response_3.read().decode(\"utf-8\")\n",
    "except:\n",
    "    print(\"Failed to retrive data from API.\")\n",
    "    \n",
    "# Collect the JSON data from the requested APIs\n",
    "data_1 = json.loads(raw_json_1)\n",
    "data_2 = json.loads(raw_json_2)\n",
    "data_3 = json.loads(raw_json_3)"
   ]
  },
  {
   "cell_type": "code",
   "execution_count": 303,
   "metadata": {},
   "outputs": [],
   "source": [
    "#Saving the json data in dataframe by json normalization\n",
    "covid_data_df=json_normalize(data_1,'Countries')  \n",
    "covid_india_df=json_normalize(data_2['data']['state_data'])\n",
    "covid_daywise_italy_df=json_normalize(data_3['Italy'])"
   ]
  },
  {
   "cell_type": "code",
   "execution_count": 304,
   "metadata": {},
   "outputs": [],
   "source": [
    "#Saving these dataframes in a csv file\n",
    "covid_data_df.to_csv(\"covid_raw.csv\", encoding = \"UTF-8\", index = False)\n",
    "covid_india_df.to_csv(\"covid_india_raw.csv\", encoding = \"UTF-8\", index = False)\n",
    "covid_daywise_italy_df.to_csv(\"covid_daywise_italy_raw.csv\", encoding = \"UTF-8\", index = False)"
   ]
  },
  {
   "cell_type": "markdown",
   "metadata": {},
   "source": [
    "## Task 3: Data pre-processing\n",
    "Tasks Performed\n",
    "\n",
    "1.Data Cleaning\n",
    "\n",
    "2.Removal of Inconsistent data\n",
    "\n",
    "3.Unused columns and rows removal"
   ]
  },
  {
   "cell_type": "code",
   "execution_count": 305,
   "metadata": {},
   "outputs": [],
   "source": [
    "# I am dropping unnecessary column for covid_data since it is not useful for analysis of the data.\n",
    "covid_data_df.drop(['Slug'], axis=1, inplace=True)\n",
    "\n",
    "#Data Cleaning\n",
    "# I am dropping unnecessary rows for covid_data (Some extra rows which has no data) \n",
    "df1 = covid_data_df.iloc[:,1:6]\n",
    "covid_data_df.drop([0], axis=0, inplace=True)"
   ]
  },
  {
   "cell_type": "code",
   "execution_count": 306,
   "metadata": {},
   "outputs": [],
   "source": [
    "#Data Filtering\n",
    "# Deleting the countries which has zero cases\n",
    "covid_data_df = covid_data_df[covid_data_df.astype(bool).sum(1) > len(covid_data_df.columns)-6]\n",
    "\n",
    "#Deleting the days in which italy has zero cases\n",
    "covid_daywise_italy_df = covid_daywise_italy_df[covid_daywise_italy_df.astype(bool).sum(1) > len(covid_daywise_italy_df.columns)-3]"
   ]
  },
  {
   "cell_type": "code",
   "execution_count": 307,
   "metadata": {},
   "outputs": [],
   "source": [
    "# Data Inconsistency\n",
    "# Since all the data of covid_daywise_italy_df.csv was in string format, Converting into integer type\n",
    "covid_daywise_italy_df['Confirmed Cases'] = covid_daywise_italy_df['confirmed'].astype(int)\n",
    "covid_daywise_italy_df['Recovered Cases'] = covid_daywise_italy_df['recovered'].astype(int)\n",
    "covid_daywise_italy_df['Deaths'] = covid_daywise_italy_df['deaths'].astype(int)\n",
    "covid_daywise_italy_df = covid_daywise_italy_df.drop(['confirmed','recovered','deaths'],axis=1)"
   ]
  },
  {
   "cell_type": "code",
   "execution_count": 308,
   "metadata": {},
   "outputs": [],
   "source": [
    "# Since all the data of covid india was in string format, Converting into integer type\n",
    "covid_india_df['Confirmed Cases'] = covid_india_df['confirmed'].astype(int)\n",
    "covid_india_df['Recovered Cases'] = covid_india_df['cured'].astype(int)\n",
    "covid_india_df['Deaths'] = covid_india_df['deaths'].astype(int)\n",
    "covid_india_df = covid_india_df.drop(['confirmed','cured','deaths'],axis=1)"
   ]
  },
  {
   "cell_type": "code",
   "execution_count": 309,
   "metadata": {},
   "outputs": [],
   "source": [
    "covid_data_df.to_csv(\"covid.csv\", encoding = \"UTF-8\", index = False)\n",
    "covid_daywise_italy_df.to_csv(\"covid_daywise_italy.csv\", encoding = \"UTF-8\", index = False)\n",
    "covid_india_df.to_csv(\"covid_india.csv\", encoding = \"UTF-8\", index = False)"
   ]
  },
  {
   "cell_type": "markdown",
   "metadata": {},
   "source": [
    "## Task 4: Data characterisation and description, including use of summary tables and visualisations.\n",
    "\n",
    "covid_data_df: Consists of NewConfirmed,TotalConfirmed,NewDeaths,TotalDeaths,NewRecovered and TotalRecovered of all over the world in a dataframe\n",
    "\n",
    "covid_india_df: Consists of place,Confirmed, Cases,\tRecovered Cases\tand Deaths of India in a dataframe\n",
    "\n",
    "covid_daywise_italy_df: Consists of date,Confirmed Cases,Recovered Cases and Deaths of Italy in a dataframe\n",
    "\n",
    "Below are the summary of each dataframes and some of the characteristics of which i have taken this dataset for my assignment.\n"
   ]
  },
  {
   "cell_type": "code",
   "execution_count": 310,
   "metadata": {},
   "outputs": [
    {
     "data": {
      "text/html": [
       "<div>\n",
       "<style scoped>\n",
       "    .dataframe tbody tr th:only-of-type {\n",
       "        vertical-align: middle;\n",
       "    }\n",
       "\n",
       "    .dataframe tbody tr th {\n",
       "        vertical-align: top;\n",
       "    }\n",
       "\n",
       "    .dataframe thead th {\n",
       "        text-align: right;\n",
       "    }\n",
       "</style>\n",
       "<table border=\"1\" class=\"dataframe\">\n",
       "  <thead>\n",
       "    <tr style=\"text-align: right;\">\n",
       "      <th></th>\n",
       "      <th>Country</th>\n",
       "      <th>NewConfirmed</th>\n",
       "      <th>TotalConfirmed</th>\n",
       "      <th>NewDeaths</th>\n",
       "      <th>TotalDeaths</th>\n",
       "      <th>NewRecovered</th>\n",
       "      <th>TotalRecovered</th>\n",
       "    </tr>\n",
       "  </thead>\n",
       "  <tbody>\n",
       "    <tr>\n",
       "      <td>216</td>\n",
       "      <td>US</td>\n",
       "      <td>19408</td>\n",
       "      <td>140886</td>\n",
       "      <td>441</td>\n",
       "      <td>2467</td>\n",
       "      <td>1593</td>\n",
       "      <td>2665</td>\n",
       "    </tr>\n",
       "    <tr>\n",
       "      <td>41</td>\n",
       "      <td>China</td>\n",
       "      <td>123</td>\n",
       "      <td>82122</td>\n",
       "      <td>5</td>\n",
       "      <td>3304</td>\n",
       "      <td>482</td>\n",
       "      <td>75582</td>\n",
       "    </tr>\n",
       "    <tr>\n",
       "      <td>103</td>\n",
       "      <td>Italy</td>\n",
       "      <td>5217</td>\n",
       "      <td>97689</td>\n",
       "      <td>756</td>\n",
       "      <td>10779</td>\n",
       "      <td>646</td>\n",
       "      <td>13030</td>\n",
       "    </tr>\n",
       "    <tr>\n",
       "      <td>191</td>\n",
       "      <td>Spain</td>\n",
       "      <td>6875</td>\n",
       "      <td>80110</td>\n",
       "      <td>821</td>\n",
       "      <td>6803</td>\n",
       "      <td>2424</td>\n",
       "      <td>14709</td>\n",
       "    </tr>\n",
       "    <tr>\n",
       "      <td>76</td>\n",
       "      <td>Germany</td>\n",
       "      <td>4400</td>\n",
       "      <td>62095</td>\n",
       "      <td>100</td>\n",
       "      <td>533</td>\n",
       "      <td>730</td>\n",
       "      <td>9211</td>\n",
       "    </tr>\n",
       "  </tbody>\n",
       "</table>\n",
       "</div>"
      ],
      "text/plain": [
       "     Country  NewConfirmed  TotalConfirmed  NewDeaths  TotalDeaths  \\\n",
       "216       US         19408          140886        441         2467   \n",
       "41     China           123           82122          5         3304   \n",
       "103    Italy          5217           97689        756        10779   \n",
       "191    Spain          6875           80110        821         6803   \n",
       "76   Germany          4400           62095        100          533   \n",
       "\n",
       "     NewRecovered  TotalRecovered  \n",
       "216          1593            2665  \n",
       "41            482           75582  \n",
       "103           646           13030  \n",
       "191          2424           14709  \n",
       "76            730            9211  "
      ]
     },
     "execution_count": 310,
     "metadata": {},
     "output_type": "execute_result"
    }
   ],
   "source": [
    "#Visualize top 5 affected countries from novel coronavirus\n",
    "idx = covid_data_df.sum(axis=1).sort_values(ascending=False).head(5).index\n",
    "covid_data_df.loc[idx]"
   ]
  },
  {
   "cell_type": "code",
   "execution_count": 311,
   "metadata": {},
   "outputs": [
    {
     "data": {
      "text/html": [
       "<div>\n",
       "<style scoped>\n",
       "    .dataframe tbody tr th:only-of-type {\n",
       "        vertical-align: middle;\n",
       "    }\n",
       "\n",
       "    .dataframe tbody tr th {\n",
       "        vertical-align: top;\n",
       "    }\n",
       "\n",
       "    .dataframe thead th {\n",
       "        text-align: right;\n",
       "    }\n",
       "</style>\n",
       "<table border=\"1\" class=\"dataframe\">\n",
       "  <thead>\n",
       "    <tr style=\"text-align: right;\">\n",
       "      <th></th>\n",
       "      <th>Country</th>\n",
       "      <th>NewConfirmed</th>\n",
       "      <th>TotalConfirmed</th>\n",
       "      <th>NewDeaths</th>\n",
       "      <th>TotalDeaths</th>\n",
       "      <th>NewRecovered</th>\n",
       "      <th>TotalRecovered</th>\n",
       "    </tr>\n",
       "  </thead>\n",
       "  <tbody>\n",
       "    <tr>\n",
       "      <td>103</td>\n",
       "      <td>Italy</td>\n",
       "      <td>5217</td>\n",
       "      <td>97689</td>\n",
       "      <td>756</td>\n",
       "      <td>10779</td>\n",
       "      <td>646</td>\n",
       "      <td>13030</td>\n",
       "    </tr>\n",
       "    <tr>\n",
       "      <td>191</td>\n",
       "      <td>Spain</td>\n",
       "      <td>6875</td>\n",
       "      <td>80110</td>\n",
       "      <td>821</td>\n",
       "      <td>6803</td>\n",
       "      <td>2424</td>\n",
       "      <td>14709</td>\n",
       "    </tr>\n",
       "    <tr>\n",
       "      <td>41</td>\n",
       "      <td>China</td>\n",
       "      <td>123</td>\n",
       "      <td>82122</td>\n",
       "      <td>5</td>\n",
       "      <td>3304</td>\n",
       "      <td>482</td>\n",
       "      <td>75582</td>\n",
       "    </tr>\n",
       "    <tr>\n",
       "      <td>99</td>\n",
       "      <td>Iran (Islamic Republic of)</td>\n",
       "      <td>2901</td>\n",
       "      <td>38309</td>\n",
       "      <td>123</td>\n",
       "      <td>2640</td>\n",
       "      <td>712</td>\n",
       "      <td>12391</td>\n",
       "    </tr>\n",
       "    <tr>\n",
       "      <td>98</td>\n",
       "      <td>Iran</td>\n",
       "      <td>2901</td>\n",
       "      <td>38309</td>\n",
       "      <td>123</td>\n",
       "      <td>2640</td>\n",
       "      <td>712</td>\n",
       "      <td>12391</td>\n",
       "    </tr>\n",
       "  </tbody>\n",
       "</table>\n",
       "</div>"
      ],
      "text/plain": [
       "                        Country  NewConfirmed  TotalConfirmed  NewDeaths  \\\n",
       "103                       Italy          5217           97689        756   \n",
       "191                       Spain          6875           80110        821   \n",
       "41                        China           123           82122          5   \n",
       "99   Iran (Islamic Republic of)          2901           38309        123   \n",
       "98                         Iran          2901           38309        123   \n",
       "\n",
       "     TotalDeaths  NewRecovered  TotalRecovered  \n",
       "103        10779           646           13030  \n",
       "191         6803          2424           14709  \n",
       "41          3304           482           75582  \n",
       "99          2640           712           12391  \n",
       "98          2640           712           12391  "
      ]
     },
     "execution_count": 311,
     "metadata": {},
     "output_type": "execute_result"
    }
   ],
   "source": [
    "#Getting top 5 countries having highest death rate from coronavirus\n",
    "idx = covid_data_df.TotalDeaths.sort_values(ascending=False).head(5).index\n",
    "covid_data_df.loc[idx]"
   ]
  },
  {
   "cell_type": "code",
   "execution_count": 312,
   "metadata": {},
   "outputs": [
    {
     "data": {
      "text/html": [
       "<div>\n",
       "<style scoped>\n",
       "    .dataframe tbody tr th:only-of-type {\n",
       "        vertical-align: middle;\n",
       "    }\n",
       "\n",
       "    .dataframe tbody tr th {\n",
       "        vertical-align: top;\n",
       "    }\n",
       "\n",
       "    .dataframe thead th {\n",
       "        text-align: right;\n",
       "    }\n",
       "</style>\n",
       "<table border=\"1\" class=\"dataframe\">\n",
       "  <thead>\n",
       "    <tr style=\"text-align: right;\">\n",
       "      <th></th>\n",
       "      <th>Country</th>\n",
       "      <th>NewConfirmed</th>\n",
       "      <th>TotalConfirmed</th>\n",
       "      <th>NewDeaths</th>\n",
       "      <th>TotalDeaths</th>\n",
       "      <th>NewRecovered</th>\n",
       "      <th>TotalRecovered</th>\n",
       "    </tr>\n",
       "  </thead>\n",
       "  <tbody>\n",
       "    <tr>\n",
       "      <td>41</td>\n",
       "      <td>China</td>\n",
       "      <td>123</td>\n",
       "      <td>82122</td>\n",
       "      <td>5</td>\n",
       "      <td>3304</td>\n",
       "      <td>482</td>\n",
       "      <td>75582</td>\n",
       "    </tr>\n",
       "    <tr>\n",
       "      <td>191</td>\n",
       "      <td>Spain</td>\n",
       "      <td>6875</td>\n",
       "      <td>80110</td>\n",
       "      <td>821</td>\n",
       "      <td>6803</td>\n",
       "      <td>2424</td>\n",
       "      <td>14709</td>\n",
       "    </tr>\n",
       "    <tr>\n",
       "      <td>103</td>\n",
       "      <td>Italy</td>\n",
       "      <td>5217</td>\n",
       "      <td>97689</td>\n",
       "      <td>756</td>\n",
       "      <td>10779</td>\n",
       "      <td>646</td>\n",
       "      <td>13030</td>\n",
       "    </tr>\n",
       "    <tr>\n",
       "      <td>99</td>\n",
       "      <td>Iran (Islamic Republic of)</td>\n",
       "      <td>2901</td>\n",
       "      <td>38309</td>\n",
       "      <td>123</td>\n",
       "      <td>2640</td>\n",
       "      <td>712</td>\n",
       "      <td>12391</td>\n",
       "    </tr>\n",
       "    <tr>\n",
       "      <td>98</td>\n",
       "      <td>Iran</td>\n",
       "      <td>2901</td>\n",
       "      <td>38309</td>\n",
       "      <td>123</td>\n",
       "      <td>2640</td>\n",
       "      <td>712</td>\n",
       "      <td>12391</td>\n",
       "    </tr>\n",
       "  </tbody>\n",
       "</table>\n",
       "</div>"
      ],
      "text/plain": [
       "                        Country  NewConfirmed  TotalConfirmed  NewDeaths  \\\n",
       "41                        China           123           82122          5   \n",
       "191                       Spain          6875           80110        821   \n",
       "103                       Italy          5217           97689        756   \n",
       "99   Iran (Islamic Republic of)          2901           38309        123   \n",
       "98                         Iran          2901           38309        123   \n",
       "\n",
       "     TotalDeaths  NewRecovered  TotalRecovered  \n",
       "41          3304           482           75582  \n",
       "191         6803          2424           14709  \n",
       "103        10779           646           13030  \n",
       "99          2640           712           12391  \n",
       "98          2640           712           12391  "
      ]
     },
     "execution_count": 312,
     "metadata": {},
     "output_type": "execute_result"
    }
   ],
   "source": [
    "#Getting top 5 countries having highest recovered people from corona Virus\n",
    "idx = covid_data_df.TotalRecovered.sort_values(ascending=False).head(5).index\n",
    "covid_data_df.loc[idx]"
   ]
  },
  {
   "cell_type": "code",
   "execution_count": 313,
   "metadata": {},
   "outputs": [
    {
     "data": {
      "text/plain": [
       "NewConfirmed       62836\n",
       "TotalConfirmed    781349\n",
       "NewDeaths           3418\n",
       "TotalDeaths        36899\n",
       "NewRecovered       11086\n",
       "TotalRecovered    172341\n",
       "dtype: int64"
      ]
     },
     "execution_count": 313,
     "metadata": {},
     "output_type": "execute_result"
    }
   ],
   "source": [
    "#From all the country's data we have sumed up the total cases all over the world\n",
    "df_suming_data= covid_data_df.drop(['Country'],axis=1)\n",
    "df_suming_data.sum(axis = 0, skipna = True)"
   ]
  },
  {
   "cell_type": "code",
   "execution_count": 314,
   "metadata": {},
   "outputs": [
    {
     "data": {
      "text/html": [
       "<div>\n",
       "<style scoped>\n",
       "    .dataframe tbody tr th:only-of-type {\n",
       "        vertical-align: middle;\n",
       "    }\n",
       "\n",
       "    .dataframe tbody tr th {\n",
       "        vertical-align: top;\n",
       "    }\n",
       "\n",
       "    .dataframe thead th {\n",
       "        text-align: right;\n",
       "    }\n",
       "</style>\n",
       "<table border=\"1\" class=\"dataframe\">\n",
       "  <thead>\n",
       "    <tr style=\"text-align: right;\">\n",
       "      <th></th>\n",
       "      <th>NewConfirmed</th>\n",
       "      <th>TotalConfirmed</th>\n",
       "      <th>NewDeaths</th>\n",
       "      <th>TotalDeaths</th>\n",
       "      <th>NewRecovered</th>\n",
       "      <th>TotalRecovered</th>\n",
       "    </tr>\n",
       "  </thead>\n",
       "  <tbody>\n",
       "    <tr>\n",
       "      <td>count</td>\n",
       "      <td>202.000000</td>\n",
       "      <td>202.000000</td>\n",
       "      <td>202.000000</td>\n",
       "      <td>202.000000</td>\n",
       "      <td>202.000000</td>\n",
       "      <td>202.000000</td>\n",
       "    </tr>\n",
       "    <tr>\n",
       "      <td>mean</td>\n",
       "      <td>311.069307</td>\n",
       "      <td>3868.064356</td>\n",
       "      <td>16.920792</td>\n",
       "      <td>182.668317</td>\n",
       "      <td>54.881188</td>\n",
       "      <td>853.173267</td>\n",
       "    </tr>\n",
       "    <tr>\n",
       "      <td>std</td>\n",
       "      <td>1564.268390</td>\n",
       "      <td>15694.352374</td>\n",
       "      <td>88.684772</td>\n",
       "      <td>988.365636</td>\n",
       "      <td>251.337152</td>\n",
       "      <td>5680.248756</td>\n",
       "    </tr>\n",
       "    <tr>\n",
       "      <td>min</td>\n",
       "      <td>0.000000</td>\n",
       "      <td>0.000000</td>\n",
       "      <td>0.000000</td>\n",
       "      <td>0.000000</td>\n",
       "      <td>0.000000</td>\n",
       "      <td>0.000000</td>\n",
       "    </tr>\n",
       "    <tr>\n",
       "      <td>25%</td>\n",
       "      <td>0.000000</td>\n",
       "      <td>12.000000</td>\n",
       "      <td>0.000000</td>\n",
       "      <td>0.000000</td>\n",
       "      <td>0.000000</td>\n",
       "      <td>0.000000</td>\n",
       "    </tr>\n",
       "    <tr>\n",
       "      <td>50%</td>\n",
       "      <td>12.500000</td>\n",
       "      <td>140.500000</td>\n",
       "      <td>0.000000</td>\n",
       "      <td>1.000000</td>\n",
       "      <td>0.000000</td>\n",
       "      <td>4.000000</td>\n",
       "    </tr>\n",
       "    <tr>\n",
       "      <td>75%</td>\n",
       "      <td>80.750000</td>\n",
       "      <td>819.250000</td>\n",
       "      <td>2.000000</td>\n",
       "      <td>11.750000</td>\n",
       "      <td>2.750000</td>\n",
       "      <td>37.750000</td>\n",
       "    </tr>\n",
       "    <tr>\n",
       "      <td>max</td>\n",
       "      <td>19408.000000</td>\n",
       "      <td>140886.000000</td>\n",
       "      <td>821.000000</td>\n",
       "      <td>10779.000000</td>\n",
       "      <td>2424.000000</td>\n",
       "      <td>75582.000000</td>\n",
       "    </tr>\n",
       "  </tbody>\n",
       "</table>\n",
       "</div>"
      ],
      "text/plain": [
       "       NewConfirmed  TotalConfirmed   NewDeaths   TotalDeaths  NewRecovered  \\\n",
       "count    202.000000      202.000000  202.000000    202.000000    202.000000   \n",
       "mean     311.069307     3868.064356   16.920792    182.668317     54.881188   \n",
       "std     1564.268390    15694.352374   88.684772    988.365636    251.337152   \n",
       "min        0.000000        0.000000    0.000000      0.000000      0.000000   \n",
       "25%        0.000000       12.000000    0.000000      0.000000      0.000000   \n",
       "50%       12.500000      140.500000    0.000000      1.000000      0.000000   \n",
       "75%       80.750000      819.250000    2.000000     11.750000      2.750000   \n",
       "max    19408.000000   140886.000000  821.000000  10779.000000   2424.000000   \n",
       "\n",
       "       TotalRecovered  \n",
       "count      202.000000  \n",
       "mean       853.173267  \n",
       "std       5680.248756  \n",
       "min          0.000000  \n",
       "25%          0.000000  \n",
       "50%          4.000000  \n",
       "75%         37.750000  \n",
       "max      75582.000000  "
      ]
     },
     "execution_count": 314,
     "metadata": {},
     "output_type": "execute_result"
    }
   ],
   "source": [
    "#Summary of the covid table accross all countries in the world\n",
    "covid_data_df.describe()"
   ]
  },
  {
   "cell_type": "code",
   "execution_count": 315,
   "metadata": {},
   "outputs": [
    {
     "data": {
      "text/html": [
       "<div>\n",
       "<style scoped>\n",
       "    .dataframe tbody tr th:only-of-type {\n",
       "        vertical-align: middle;\n",
       "    }\n",
       "\n",
       "    .dataframe tbody tr th {\n",
       "        vertical-align: top;\n",
       "    }\n",
       "\n",
       "    .dataframe thead th {\n",
       "        text-align: right;\n",
       "    }\n",
       "</style>\n",
       "<table border=\"1\" class=\"dataframe\">\n",
       "  <thead>\n",
       "    <tr style=\"text-align: right;\">\n",
       "      <th></th>\n",
       "      <th>id</th>\n",
       "      <th>place</th>\n",
       "      <th>Confirmed Cases</th>\n",
       "      <th>Recovered Cases</th>\n",
       "      <th>Deaths</th>\n",
       "    </tr>\n",
       "  </thead>\n",
       "  <tbody>\n",
       "    <tr>\n",
       "      <td>12</td>\n",
       "      <td>13</td>\n",
       "      <td>Kerala</td>\n",
       "      <td>202</td>\n",
       "      <td>19</td>\n",
       "      <td>1</td>\n",
       "    </tr>\n",
       "    <tr>\n",
       "      <td>15</td>\n",
       "      <td>16</td>\n",
       "      <td>Maharashtra</td>\n",
       "      <td>198</td>\n",
       "      <td>25</td>\n",
       "      <td>8</td>\n",
       "    </tr>\n",
       "    <tr>\n",
       "      <td>5</td>\n",
       "      <td>6</td>\n",
       "      <td>Delhi</td>\n",
       "      <td>87</td>\n",
       "      <td>6</td>\n",
       "      <td>2</td>\n",
       "    </tr>\n",
       "    <tr>\n",
       "      <td>11</td>\n",
       "      <td>12</td>\n",
       "      <td>Karnataka</td>\n",
       "      <td>83</td>\n",
       "      <td>5</td>\n",
       "      <td>3</td>\n",
       "    </tr>\n",
       "    <tr>\n",
       "      <td>25</td>\n",
       "      <td>26</td>\n",
       "      <td>Uttar Pradesh</td>\n",
       "      <td>82</td>\n",
       "      <td>11</td>\n",
       "      <td>0</td>\n",
       "    </tr>\n",
       "  </tbody>\n",
       "</table>\n",
       "</div>"
      ],
      "text/plain": [
       "    id          place  Confirmed Cases  Recovered Cases  Deaths\n",
       "12  13         Kerala              202               19       1\n",
       "15  16    Maharashtra              198               25       8\n",
       "5    6          Delhi               87                6       2\n",
       "11  12      Karnataka               83                5       3\n",
       "25  26  Uttar Pradesh               82               11       0"
      ]
     },
     "execution_count": 315,
     "metadata": {},
     "output_type": "execute_result"
    }
   ],
   "source": [
    "#Visualize top 5 States affected from corona Virus in India\n",
    "idx = covid_india_df['Confirmed Cases'].sort_values(ascending=False).head(5).index\n",
    "covid_india_df.loc[idx]"
   ]
  },
  {
   "cell_type": "code",
   "execution_count": 316,
   "metadata": {},
   "outputs": [
    {
     "data": {
      "text/html": [
       "<div>\n",
       "<style scoped>\n",
       "    .dataframe tbody tr th:only-of-type {\n",
       "        vertical-align: middle;\n",
       "    }\n",
       "\n",
       "    .dataframe tbody tr th {\n",
       "        vertical-align: top;\n",
       "    }\n",
       "\n",
       "    .dataframe thead th {\n",
       "        text-align: right;\n",
       "    }\n",
       "</style>\n",
       "<table border=\"1\" class=\"dataframe\">\n",
       "  <thead>\n",
       "    <tr style=\"text-align: right;\">\n",
       "      <th></th>\n",
       "      <th>id</th>\n",
       "      <th>place</th>\n",
       "      <th>Confirmed Cases</th>\n",
       "      <th>Recovered Cases</th>\n",
       "      <th>Deaths</th>\n",
       "    </tr>\n",
       "  </thead>\n",
       "  <tbody>\n",
       "    <tr>\n",
       "      <td>15</td>\n",
       "      <td>16</td>\n",
       "      <td>Maharashtra</td>\n",
       "      <td>198</td>\n",
       "      <td>25</td>\n",
       "      <td>8</td>\n",
       "    </tr>\n",
       "    <tr>\n",
       "      <td>7</td>\n",
       "      <td>8</td>\n",
       "      <td>Gujarat</td>\n",
       "      <td>69</td>\n",
       "      <td>1</td>\n",
       "      <td>6</td>\n",
       "    </tr>\n",
       "    <tr>\n",
       "      <td>11</td>\n",
       "      <td>12</td>\n",
       "      <td>Karnataka</td>\n",
       "      <td>83</td>\n",
       "      <td>5</td>\n",
       "      <td>3</td>\n",
       "    </tr>\n",
       "    <tr>\n",
       "      <td>14</td>\n",
       "      <td>15</td>\n",
       "      <td>Madhya Pradesh</td>\n",
       "      <td>47</td>\n",
       "      <td>0</td>\n",
       "      <td>3</td>\n",
       "    </tr>\n",
       "    <tr>\n",
       "      <td>26</td>\n",
       "      <td>27</td>\n",
       "      <td>West Bengal</td>\n",
       "      <td>22</td>\n",
       "      <td>0</td>\n",
       "      <td>2</td>\n",
       "    </tr>\n",
       "  </tbody>\n",
       "</table>\n",
       "</div>"
      ],
      "text/plain": [
       "    id           place  Confirmed Cases  Recovered Cases  Deaths\n",
       "15  16     Maharashtra              198               25       8\n",
       "7    8         Gujarat               69                1       6\n",
       "11  12       Karnataka               83                5       3\n",
       "14  15  Madhya Pradesh               47                0       3\n",
       "26  27     West Bengal               22                0       2"
      ]
     },
     "execution_count": 316,
     "metadata": {},
     "output_type": "execute_result"
    }
   ],
   "source": [
    "#Getting top 5 state affected from corona Virus in India\n",
    "idx = covid_india_df['Deaths'].sort_values(ascending=False).head(5).index\n",
    "covid_india_df.loc[idx]"
   ]
  },
  {
   "cell_type": "code",
   "execution_count": 317,
   "metadata": {},
   "outputs": [
    {
     "data": {
      "text/plain": [
       "Confirmed Cases    1205\n",
       "Recovered Cases     102\n",
       "Deaths               32\n",
       "dtype: int64"
      ]
     },
     "execution_count": 317,
     "metadata": {},
     "output_type": "execute_result"
    }
   ],
   "source": [
    "#Here we have the total cases in india from each states\n",
    "df_sum_india= covid_india_df.drop(['id','place'],axis=1)\n",
    "df_sum_india.sum(axis = 0) "
   ]
  },
  {
   "cell_type": "code",
   "execution_count": 318,
   "metadata": {},
   "outputs": [
    {
     "data": {
      "text/html": [
       "<div>\n",
       "<style scoped>\n",
       "    .dataframe tbody tr th:only-of-type {\n",
       "        vertical-align: middle;\n",
       "    }\n",
       "\n",
       "    .dataframe tbody tr th {\n",
       "        vertical-align: top;\n",
       "    }\n",
       "\n",
       "    .dataframe thead th {\n",
       "        text-align: right;\n",
       "    }\n",
       "</style>\n",
       "<table border=\"1\" class=\"dataframe\">\n",
       "  <thead>\n",
       "    <tr style=\"text-align: right;\">\n",
       "      <th></th>\n",
       "      <th>Confirmed Cases</th>\n",
       "      <th>Recovered Cases</th>\n",
       "      <th>Deaths</th>\n",
       "    </tr>\n",
       "  </thead>\n",
       "  <tbody>\n",
       "    <tr>\n",
       "      <td>count</td>\n",
       "      <td>27.000000</td>\n",
       "      <td>27.000000</td>\n",
       "      <td>27.000000</td>\n",
       "    </tr>\n",
       "    <tr>\n",
       "      <td>mean</td>\n",
       "      <td>44.629630</td>\n",
       "      <td>3.777778</td>\n",
       "      <td>1.185185</td>\n",
       "    </tr>\n",
       "    <tr>\n",
       "      <td>std</td>\n",
       "      <td>53.397024</td>\n",
       "      <td>6.658328</td>\n",
       "      <td>1.942184</td>\n",
       "    </tr>\n",
       "    <tr>\n",
       "      <td>min</td>\n",
       "      <td>1.000000</td>\n",
       "      <td>0.000000</td>\n",
       "      <td>0.000000</td>\n",
       "    </tr>\n",
       "    <tr>\n",
       "      <td>25%</td>\n",
       "      <td>7.000000</td>\n",
       "      <td>0.000000</td>\n",
       "      <td>0.000000</td>\n",
       "    </tr>\n",
       "    <tr>\n",
       "      <td>50%</td>\n",
       "      <td>23.000000</td>\n",
       "      <td>1.000000</td>\n",
       "      <td>0.000000</td>\n",
       "    </tr>\n",
       "    <tr>\n",
       "      <td>75%</td>\n",
       "      <td>68.000000</td>\n",
       "      <td>3.500000</td>\n",
       "      <td>1.500000</td>\n",
       "    </tr>\n",
       "    <tr>\n",
       "      <td>max</td>\n",
       "      <td>202.000000</td>\n",
       "      <td>25.000000</td>\n",
       "      <td>8.000000</td>\n",
       "    </tr>\n",
       "  </tbody>\n",
       "</table>\n",
       "</div>"
      ],
      "text/plain": [
       "       Confirmed Cases  Recovered Cases     Deaths\n",
       "count        27.000000        27.000000  27.000000\n",
       "mean         44.629630         3.777778   1.185185\n",
       "std          53.397024         6.658328   1.942184\n",
       "min           1.000000         0.000000   0.000000\n",
       "25%           7.000000         0.000000   0.000000\n",
       "50%          23.000000         1.000000   0.000000\n",
       "75%          68.000000         3.500000   1.500000\n",
       "max         202.000000        25.000000   8.000000"
      ]
     },
     "execution_count": 318,
     "metadata": {},
     "output_type": "execute_result"
    }
   ],
   "source": [
    "#Summary of all types of cases in india accross all the states\n",
    "covid_india_df.describe()"
   ]
  },
  {
   "cell_type": "code",
   "execution_count": 319,
   "metadata": {},
   "outputs": [
    {
     "data": {
      "text/html": [
       "<div>\n",
       "<style scoped>\n",
       "    .dataframe tbody tr th:only-of-type {\n",
       "        vertical-align: middle;\n",
       "    }\n",
       "\n",
       "    .dataframe tbody tr th {\n",
       "        vertical-align: top;\n",
       "    }\n",
       "\n",
       "    .dataframe thead th {\n",
       "        text-align: right;\n",
       "    }\n",
       "</style>\n",
       "<table border=\"1\" class=\"dataframe\">\n",
       "  <thead>\n",
       "    <tr style=\"text-align: right;\">\n",
       "      <th></th>\n",
       "      <th>date</th>\n",
       "      <th>Confirmed Cases</th>\n",
       "      <th>Recovered Cases</th>\n",
       "      <th>Deaths</th>\n",
       "    </tr>\n",
       "  </thead>\n",
       "  <tbody>\n",
       "    <tr>\n",
       "      <td>9</td>\n",
       "      <td>2020-1-31</td>\n",
       "      <td>2</td>\n",
       "      <td>0</td>\n",
       "      <td>0</td>\n",
       "    </tr>\n",
       "    <tr>\n",
       "      <td>10</td>\n",
       "      <td>2020-2-1</td>\n",
       "      <td>2</td>\n",
       "      <td>0</td>\n",
       "      <td>0</td>\n",
       "    </tr>\n",
       "    <tr>\n",
       "      <td>11</td>\n",
       "      <td>2020-2-2</td>\n",
       "      <td>2</td>\n",
       "      <td>0</td>\n",
       "      <td>0</td>\n",
       "    </tr>\n",
       "    <tr>\n",
       "      <td>12</td>\n",
       "      <td>2020-2-3</td>\n",
       "      <td>2</td>\n",
       "      <td>0</td>\n",
       "      <td>0</td>\n",
       "    </tr>\n",
       "    <tr>\n",
       "      <td>13</td>\n",
       "      <td>2020-2-4</td>\n",
       "      <td>2</td>\n",
       "      <td>0</td>\n",
       "      <td>0</td>\n",
       "    </tr>\n",
       "  </tbody>\n",
       "</table>\n",
       "</div>"
      ],
      "text/plain": [
       "         date  Confirmed Cases  Recovered Cases  Deaths\n",
       "9   2020-1-31                2                0       0\n",
       "10   2020-2-1                2                0       0\n",
       "11   2020-2-2                2                0       0\n",
       "12   2020-2-3                2                0       0\n",
       "13   2020-2-4                2                0       0"
      ]
     },
     "execution_count": 319,
     "metadata": {},
     "output_type": "execute_result"
    }
   ],
   "source": [
    "#Data representation of coronvirus spread in Italy from 31st Jan 2020 to till date\n",
    "covid_daywise_italy_df.head()"
   ]
  },
  {
   "cell_type": "code",
   "execution_count": 320,
   "metadata": {},
   "outputs": [
    {
     "data": {
      "text/html": [
       "<div>\n",
       "<style scoped>\n",
       "    .dataframe tbody tr th:only-of-type {\n",
       "        vertical-align: middle;\n",
       "    }\n",
       "\n",
       "    .dataframe tbody tr th {\n",
       "        vertical-align: top;\n",
       "    }\n",
       "\n",
       "    .dataframe thead th {\n",
       "        text-align: right;\n",
       "    }\n",
       "</style>\n",
       "<table border=\"1\" class=\"dataframe\">\n",
       "  <thead>\n",
       "    <tr style=\"text-align: right;\">\n",
       "      <th></th>\n",
       "      <th>Confirmed Cases</th>\n",
       "      <th>Recovered Cases</th>\n",
       "      <th>Deaths</th>\n",
       "    </tr>\n",
       "  </thead>\n",
       "  <tbody>\n",
       "    <tr>\n",
       "      <td>count</td>\n",
       "      <td>59.000000</td>\n",
       "      <td>59.000000</td>\n",
       "      <td>59.000000</td>\n",
       "    </tr>\n",
       "    <tr>\n",
       "      <td>mean</td>\n",
       "      <td>17009.457627</td>\n",
       "      <td>1955.372881</td>\n",
       "      <td>1567.966102</td>\n",
       "    </tr>\n",
       "    <tr>\n",
       "      <td>std</td>\n",
       "      <td>27773.831806</td>\n",
       "      <td>3486.659328</td>\n",
       "      <td>2853.798267</td>\n",
       "    </tr>\n",
       "    <tr>\n",
       "      <td>min</td>\n",
       "      <td>2.000000</td>\n",
       "      <td>0.000000</td>\n",
       "      <td>0.000000</td>\n",
       "    </tr>\n",
       "    <tr>\n",
       "      <td>25%</td>\n",
       "      <td>3.000000</td>\n",
       "      <td>0.000000</td>\n",
       "      <td>0.000000</td>\n",
       "    </tr>\n",
       "    <tr>\n",
       "      <td>50%</td>\n",
       "      <td>1128.000000</td>\n",
       "      <td>46.000000</td>\n",
       "      <td>29.000000</td>\n",
       "    </tr>\n",
       "    <tr>\n",
       "      <td>75%</td>\n",
       "      <td>22952.000000</td>\n",
       "      <td>2150.500000</td>\n",
       "      <td>1625.000000</td>\n",
       "    </tr>\n",
       "    <tr>\n",
       "      <td>max</td>\n",
       "      <td>97689.000000</td>\n",
       "      <td>13030.000000</td>\n",
       "      <td>10779.000000</td>\n",
       "    </tr>\n",
       "  </tbody>\n",
       "</table>\n",
       "</div>"
      ],
      "text/plain": [
       "       Confirmed Cases  Recovered Cases        Deaths\n",
       "count        59.000000        59.000000     59.000000\n",
       "mean      17009.457627      1955.372881   1567.966102\n",
       "std       27773.831806      3486.659328   2853.798267\n",
       "min           2.000000         0.000000      0.000000\n",
       "25%           3.000000         0.000000      0.000000\n",
       "50%        1128.000000        46.000000     29.000000\n",
       "75%       22952.000000      2150.500000   1625.000000\n",
       "max       97689.000000     13030.000000  10779.000000"
      ]
     },
     "execution_count": 320,
     "metadata": {},
     "output_type": "execute_result"
    }
   ],
   "source": [
    "#Summary of the cases in Italy\n",
    "covid_daywise_italy_df.describe()"
   ]
  },
  {
   "cell_type": "markdown",
   "metadata": {},
   "source": [
    "## Task 5: Interpretation of results and insights into the data.¶\n",
    "As we have all the cleaned dataset  we can now use it for plotting to vsualize the data and see some insights\n",
    "We have three covid datasets\n",
    "\n",
    "The covid_data_df is used to plot country vs total number of confirmed cases we can also plot against recover cases\n",
    "I have also plot against the deaths cases to visualize how many countries are majorly affected from this virus.\n",
    "\n"
   ]
  },
  {
   "cell_type": "code",
   "execution_count": 321,
   "metadata": {},
   "outputs": [
    {
     "data": {
      "image/png": "[encoded data removed]",
      "text/plain": [
       "<Figure size 720x576 with 1 Axes>"
      ]
     },
     "metadata": {
      "needs_background": "light"
     },
     "output_type": "display_data"
    }
   ],
   "source": [
    "# PLotting 'country' and 'Total Number of confirm cases in the country' for novel coronavirus\n",
    "idx = covid_data_df.sum(axis=1).sort_values(ascending=False).head(10).index\n",
    "data = covid_data_df.loc[idx]\n",
    "matplotlib.rc('figure', figsize=(10, 8))\n",
    "data.plot(kind='bar',x='Country',y='TotalConfirmed', legend=False, edgecolor='black', color='green')\n",
    "plt.xlabel('Countries', fontsize=20, color='green')\n",
    "plt.ylabel('Total Confirmed', fontsize=20, color='green')\n",
    "plt.title('Country wise Total Confirmed cases', fontsize=20, color='brown')\n",
    "plt.show()"
   ]
  },
  {
   "cell_type": "code",
   "execution_count": 322,
   "metadata": {},
   "outputs": [
    {
     "data": {
      "image/png": "[encoded data removed]",
      "text/plain": [
       "<Figure size 720x576 with 1 Axes>"
      ]
     },
     "metadata": {
      "needs_background": "light"
     },
     "output_type": "display_data"
    }
   ],
   "source": [
    "# PLotting 'country' and 'Total Number of death cases in the country' for novel coronavirus\n",
    "idx = covid_data_df.TotalRecovered.sort_values(ascending=False).head(10).index\n",
    "data = covid_data_df.loc[idx]\n",
    "matplotlib.rc('figure', figsize=(10, 8))\n",
    "data.plot(kind='bar',x='Country',y='TotalDeaths', legend=False, edgecolor='black', color='red')\n",
    "plt.xlabel('Country', fontsize=18, color='red')\n",
    "plt.ylabel('Total Deaths', fontsize=18, color='red')\n",
    "plt.title('Country wise Total Death cases', fontsize=20, color='green')\n",
    "plt.show()"
   ]
  },
  {
   "cell_type": "markdown",
   "metadata": {},
   "source": [
    "The \"covid_india_df\" is used to plot all the affected states in the country. The following plot shows the number of confirmed cases in each state. We can also plot this against death cases and recovery cases to visualize how many death and recovery cases are there in each state. This dataset gives a deeper understanding on each countries and measures to be taken by each state with respect to the increasing number of cases."
   ]
  },
  {
   "cell_type": "code",
   "execution_count": 323,
   "metadata": {},
   "outputs": [
    {
     "data": {
      "image/png": "[encoded data removed]",
      "text/plain": [
       "<Figure size 720x720 with 1 Axes>"
      ]
     },
     "metadata": {
      "needs_background": "light"
     },
     "output_type": "display_data"
    }
   ],
   "source": [
    "# Funtion to display graph of State VS Number of confirmed cases units of Q2-2019\n",
    "matplotlib.rc('figure', figsize=(12, 8))\n",
    "covid_india_df.plot(kind='barh',x='place',y='Confirmed Cases', figsize = (10,10), legend=False,fontsize=12,edgecolor='black', color='maroon')\n",
    "plt.xlabel('Confirmed cases', fontsize=18, color='green')\n",
    "plt.ylabel('States in the country', fontsize=18, color='green')\n",
    "plt.title('Number of Confirmed cases with respect to each state in India', fontsize=20, color='green')\n",
    "plt.show()"
   ]
  },
  {
   "cell_type": "markdown",
   "metadata": {},
   "source": [
    "From the above figure, we can see that maharashtra and kerala has the highest confirm cases than any other states in india. We can also observe that in every state there is 1 or more cases. Therefore, appropriate actions should be taken to reduce this pandemic."
   ]
  },
  {
   "cell_type": "markdown",
   "metadata": {},
   "source": [
    "\"covid_daywise_italy_df\" dataset is specifically for Italy on how there was a sudden increase of this pandemic\n",
    "I have intentionally taken Italy because we can better analyse how this virus has spread exponentially.\n",
    "As we know that Italy has been badly impacted due to this coronavirus pandemic. By visualizing these graphs we can take precautionary measures to steep this graph"
   ]
  },
  {
   "cell_type": "code",
   "execution_count": 324,
   "metadata": {},
   "outputs": [
    {
     "data": {
      "text/plain": [
       "Text(0, 0.5, 'Confirmed Cases')"
      ]
     },
     "execution_count": 324,
     "metadata": {},
     "output_type": "execute_result"
    },
    {
     "data": {
      "image/png": "[encoded data removed]",
      "text/plain": [
       "<Figure size 864x576 with 1 Axes>"
      ]
     },
     "metadata": {
      "needs_background": "light"
     },
     "output_type": "display_data"
    }
   ],
   "source": [
    "df_temp= covid_daywise_italy_df[['date','Confirmed Cases']]\n",
    "df_temp.plot(x='date', y='Confirmed Cases', legend=False)\n",
    "plt.title('Italy Confirmed Cases Graph', fontsize=20, color='red')\n",
    "plt.xlabel('Date', fontsize=18)\n",
    "plt.ylabel('Confirmed Cases', fontsize=18)"
   ]
  },
  {
   "cell_type": "markdown",
   "metadata": {},
   "source": [
    "From the above figure we can see that there was an exponential growth of corona cases in Italy after the end of february.\n",
    "These insights help us to understand how this virus can affect any other country. "
   ]
  },
  {
   "cell_type": "code",
   "execution_count": 325,
   "metadata": {},
   "outputs": [
    {
     "data": {
      "text/plain": [
       "Text(0.5, 1.0, 'Number of cases in Italy wth respect to the date')"
      ]
     },
     "execution_count": 325,
     "metadata": {},
     "output_type": "execute_result"
    },
    {
     "data": {
      "image/png": "[encoded data removed]",
      "text/plain": [
       "<Figure size 1008x864 with 1 Axes>"
      ]
     },
     "metadata": {
      "needs_background": "light"
     },
     "output_type": "display_data"
    }
   ],
   "source": [
    "#The below figure gives a brief \n",
    "idx = covid_data_df.sum(axis=1).sort_values(ascending=False).head(8).index\n",
    "data = covid_data_df.loc[idx]\n",
    "p= data.plot.bar(figsize=(14,12),fontsize=14)\n",
    "p.set_xlabel(\"Date\",fontsize=14)\n",
    "p.set_ylabel(\"Number of cases\",fontsize=14)\n",
    "p.set_title(\"Number of cases in Italy wth respect to the date\",fontsize=14)"
   ]
  },
  {
   "cell_type": "markdown",
   "metadata": {},
   "source": [
    "The above figure shows the recent number of cases per day in decreasing order. As we can observe the recovery rate is very low as compare to the confirmed cases. Also the death rate is very high. We can also observe that new confirmed cases are also the same every day.  "
   ]
  },
  {
   "cell_type": "markdown",
   "metadata": {},
   "source": [
    "## Summary:\n",
    "The current outbreak of coronavirus disease (COVID-19) pandemic is on eye of everyone. Everyone wants an end of this pandemic as soon as possible. Therefore health industry, government sectors and many other industries needs some statistics to analyse all the data of this outbreak and put some measures and solutions accordingly. For future business requirements and how to act over this pandemic can be illustrated better with these statistics. Data is an important aspects for prediction of future by analysing it today. These APIs gives us a good overview of  how to analyse this outbreak in statistical form.\n",
    "As a data scientist, we should know how do we take this data and preprocess and use it according to the business requirements.\n"
   ]
  },
  {
   "cell_type": "markdown",
   "metadata": {},
   "source": [
    "## Future Scope\n",
    "We can use these statistics to prevent from any other similar outbreak in future. These APIs can be used in machine learning models to predict if there will be an increase or decrease of this pandemic in the future. These statistics will be a lesson to each one of us on how an individual person can control this outbreak."
   ]
  },
  {
   "cell_type": "code",
   "execution_count": null,
   "metadata": {},
   "outputs": [],
   "source": []
  }
 ],
 "metadata": {
  "kernelspec": {
   "display_name": "Python 3",
   "language": "python",
   "name": "python3"
  },
  "language_info": {
   "codemirror_mode": {
    "name": "ipython",
    "version": 3
   },
   "file_extension": ".py",
   "mimetype": "text/x-python",
   "name": "python",
   "nbconvert_exporter": "python",
   "pygments_lexer": "ipython3",
   "version": "3.7.4"
  }
 },
 "nbformat": 4,
 "nbformat_minor": 2
}
